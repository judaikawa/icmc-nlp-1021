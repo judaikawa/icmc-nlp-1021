{
  "nbformat": 4,
  "nbformat_minor": 0,
  "metadata": {
    "colab": {
      "provenance": []
    },
    "kernelspec": {
      "name": "python3",
      "display_name": "Python 3"
    },
    "language_info": {
      "name": "python"
    }
  },
  "cells": [
    {
      "cell_type": "markdown",
      "metadata": {
        "id": "KD7UG-6jEPx_"
      },
      "source": [
        "### Listas e Tuplas\n",
        "\n",
        "- Listas: mutáveis e delimitadas por colchetes\n",
        "- Tuplas: imutáveis e delimitadas por parênteses\n",
        "\n",
        "Acesso sequencial: fatias (slicing) ou diretamente\n",
        "\n",
        "Métodos prontos para adicionar, remover, ordenar, procurar, contar, entre vários outros\n",
        "\n",
        "Algumas funções:\n",
        "- append\n",
        "- extend\n",
        "- insert\n",
        "- sort\n",
        "- reverse\n",
        "- remove\n",
        "- index\n",
        "- count\n",
        "- ..."
      ]
    },
    {
      "cell_type": "markdown",
      "metadata": {
        "id": "Jqq3hdEr0qFT"
      },
      "source": [
        "#### Listas"
      ]
    },
    {
      "cell_type": "code",
      "metadata": {
        "id": "CW0jm_5OBZxG"
      },
      "source": [
        "lista = [0, \"oi\", 2]\n",
        "tupla = (0, 1.5, 2)\n",
        "dicionario = {\"value\": \"teste\"}"
      ],
      "execution_count": null,
      "outputs": []
    },
    {
      "cell_type": "code",
      "metadata": {
        "colab": {
          "base_uri": "https://localhost:8080/"
        },
        "id": "CWpVqYcrDrPi",
        "outputId": "17eb2abd-f7cc-479e-f617-fe5552deb926"
      },
      "source": [
        "print(type(lista))\n",
        "print(type(tupla))\n",
        "print(type(dicionario))"
      ],
      "execution_count": null,
      "outputs": [
        {
          "output_type": "stream",
          "name": "stdout",
          "text": [
            "<class 'list'>\n",
            "<class 'tuple'>\n",
            "<class 'dict'>\n"
          ]
        }
      ]
    },
    {
      "cell_type": "code",
      "metadata": {
        "colab": {
          "base_uri": "https://localhost:8080/"
        },
        "id": "NFRx7U_6EATv",
        "outputId": "3fbf261a-65a6-4537-cb6c-73f4ede8ec90"
      },
      "source": [
        "lista = []\n",
        "lista = list(range(5))\n",
        "print(lista)"
      ],
      "execution_count": null,
      "outputs": [
        {
          "output_type": "stream",
          "name": "stdout",
          "text": [
            "[0, 1, 2, 3, 4]\n"
          ]
        }
      ]
    },
    {
      "cell_type": "code",
      "metadata": {
        "colab": {
          "base_uri": "https://localhost:8080/"
        },
        "id": "TAMvUgmsIRL-",
        "outputId": "38034d15-8ff1-4997-9829-dca4e1e4896e"
      },
      "source": [
        "lista.append(5)\n",
        "print(lista)"
      ],
      "execution_count": null,
      "outputs": [
        {
          "output_type": "stream",
          "name": "stdout",
          "text": [
            "[0, 1, 2, 3, 4, 5]\n"
          ]
        }
      ]
    },
    {
      "cell_type": "code",
      "metadata": {
        "colab": {
          "base_uri": "https://localhost:8080/"
        },
        "id": "mhDYfPJJE9jw",
        "outputId": "be30a5b0-2c01-443c-dfca-7c28d82d7d49"
      },
      "source": [
        "lista.extend(list(range(6,11)))\n",
        "print(lista)"
      ],
      "execution_count": null,
      "outputs": [
        {
          "output_type": "stream",
          "name": "stdout",
          "text": [
            "[0, 1, 2, 3, 4, 5, 6, 7, 8, 9, 10]\n"
          ]
        }
      ]
    },
    {
      "cell_type": "code",
      "metadata": {
        "colab": {
          "base_uri": "https://localhost:8080/"
        },
        "id": "HriIfDG0FJ-C",
        "outputId": "53d241c9-a42c-49f2-9bdd-24300d0d9fe6"
      },
      "source": [
        "lista.insert(0,99)\n",
        "print(lista)"
      ],
      "execution_count": null,
      "outputs": [
        {
          "output_type": "stream",
          "name": "stdout",
          "text": [
            "[99, 0, 1, 2, 3, 4, 5, 6, 7, 8, 9, 10]\n"
          ]
        }
      ]
    },
    {
      "cell_type": "code",
      "metadata": {
        "colab": {
          "base_uri": "https://localhost:8080/"
        },
        "id": "vvkF9OtVGtsu",
        "outputId": "10e545cd-a6ce-49cd-94e9-b67006a2b697"
      },
      "source": [
        "lista.reverse()\n",
        "print(lista)"
      ],
      "execution_count": null,
      "outputs": [
        {
          "output_type": "stream",
          "name": "stdout",
          "text": [
            "[10, 9, 8, 7, 6, 5, 4, 3, 2, 1, 0, 99]\n"
          ]
        }
      ]
    },
    {
      "cell_type": "code",
      "metadata": {
        "colab": {
          "base_uri": "https://localhost:8080/"
        },
        "id": "tHuVClfVIY2e",
        "outputId": "6296d1a9-df9f-4de4-de81-b3d967774747"
      },
      "source": [
        "lista.sort()\n",
        "print(lista)"
      ],
      "execution_count": null,
      "outputs": [
        {
          "output_type": "stream",
          "name": "stdout",
          "text": [
            "[0, 1, 2, 3, 4, 5, 6, 7, 8, 9, 10, 99]\n"
          ]
        }
      ]
    },
    {
      "cell_type": "code",
      "metadata": {
        "colab": {
          "base_uri": "https://localhost:8080/"
        },
        "id": "rOqDgkNWIzFY",
        "outputId": "998fa7aa-c0d3-4e34-faba-8466d2724aa0"
      },
      "source": [
        "print(lista.count(99))\n",
        "print(lista.index(99))"
      ],
      "execution_count": null,
      "outputs": [
        {
          "output_type": "stream",
          "name": "stdout",
          "text": [
            "1\n",
            "11\n"
          ]
        }
      ]
    },
    {
      "cell_type": "code",
      "metadata": {
        "colab": {
          "base_uri": "https://localhost:8080/"
        },
        "id": "VkJn8DUmJNhM",
        "outputId": "d7f217c1-853b-4e57-ec51-9e353dab6ab5"
      },
      "source": [
        "print(lista)\n",
        "print(lista[2:7])\n",
        "print(lista[2:7:2])\n",
        "print(lista[2:7:3])"
      ],
      "execution_count": null,
      "outputs": [
        {
          "output_type": "stream",
          "name": "stdout",
          "text": [
            "[0, 1, 2, 3, 4, 5, 6, 7, 8, 9, 10, 99]\n",
            "[2, 3, 4, 5, 6]\n",
            "[2, 4, 6]\n",
            "[2, 5]\n"
          ]
        }
      ]
    },
    {
      "cell_type": "markdown",
      "metadata": {
        "id": "L8sTLtqj0Aq6"
      },
      "source": [
        "#### Tuplas\n",
        "\n",
        "Por serem imutáveis, tuplas representam informações que não devem ser modificadas\n",
        "\n",
        "- Exemplos: vetores dos embeddings e classes morfossintáticas retornadas por um tagger.\n",
        "\n",
        "Arranjo das tuplas é similar ao das listas, só não se usam os métodos para modifica-las\n",
        "- Apenas o count() e index() estão disponíveis"
      ]
    },
    {
      "cell_type": "code",
      "metadata": {
        "colab": {
          "base_uri": "https://localhost:8080/"
        },
        "id": "HDtrCDGrz02-",
        "outputId": "e1acc2c8-db3e-4969-fea0-d9b7b32a4ddd"
      },
      "source": [
        "t = (\"isto\", \"é\", \"uma\", \"tupla\")\n",
        "print(t)"
      ],
      "execution_count": null,
      "outputs": [
        {
          "output_type": "stream",
          "name": "stdout",
          "text": [
            "('isto', 'é', 'uma', 'tupla')\n"
          ]
        }
      ]
    },
    {
      "cell_type": "code",
      "metadata": {
        "colab": {
          "base_uri": "https://localhost:8080/",
          "height": 35
        },
        "id": "A577IbfIz1fF",
        "outputId": "b7f2a6e8-a0c8-4b44-a1dc-b5f106cecb69"
      },
      "source": [
        "t[0]"
      ],
      "execution_count": null,
      "outputs": [
        {
          "output_type": "execute_result",
          "data": {
            "application/vnd.google.colaboratory.intrinsic+json": {
              "type": "string"
            },
            "text/plain": [
              "'isto'"
            ]
          },
          "metadata": {},
          "execution_count": 4
        }
      ]
    },
    {
      "cell_type": "markdown",
      "metadata": {
        "id": "ttFeKYWV1KPZ"
      },
      "source": [
        "### Dicionários\n",
        "\n",
        "São estruturas de dados bem úteis que permitem armazenar e recuperar informações por pares chave-valor."
      ]
    },
    {
      "cell_type": "code",
      "metadata": {
        "colab": {
          "base_uri": "https://localhost:8080/"
        },
        "id": "vPRaUUFt1b6a",
        "outputId": "e1b4b4c2-de73-4a47-82c7-611ebd244ff7"
      },
      "source": [
        "dic = {}\n",
        "dic['zero'] = 0\n",
        "dic['um'] = 1\n",
        "dic['dois'] = 2\n",
        "dic['três'] = 3\n",
        "print(dic)"
      ],
      "execution_count": null,
      "outputs": [
        {
          "output_type": "stream",
          "name": "stdout",
          "text": [
            "{'zero': 0, 'um': 1, 'dois': 2, 'três': 3}\n"
          ]
        }
      ]
    },
    {
      "cell_type": "code",
      "metadata": {
        "colab": {
          "base_uri": "https://localhost:8080/"
        },
        "id": "mlOHN2V92Jbw",
        "outputId": "9176ea23-c631-4db7-be28-cea2e8a2906d"
      },
      "source": [
        "dic['zero']"
      ],
      "execution_count": null,
      "outputs": [
        {
          "output_type": "execute_result",
          "data": {
            "text/plain": [
              "0"
            ]
          },
          "metadata": {},
          "execution_count": 10
        }
      ]
    },
    {
      "cell_type": "code",
      "metadata": {
        "colab": {
          "base_uri": "https://localhost:8080/"
        },
        "id": "oEL2Ck0V2Qsu",
        "outputId": "4b439fea-4282-47a4-98a8-9af13e9a0851"
      },
      "source": [
        "dic.keys()"
      ],
      "execution_count": null,
      "outputs": [
        {
          "output_type": "execute_result",
          "data": {
            "text/plain": [
              "dict_keys(['zero', 'um', 'dois', 'três'])"
            ]
          },
          "metadata": {},
          "execution_count": 12
        }
      ]
    },
    {
      "cell_type": "code",
      "metadata": {
        "colab": {
          "base_uri": "https://localhost:8080/"
        },
        "id": "7Ei5lYCZ3Ihn",
        "outputId": "75cc0f18-329d-452a-fe1f-397ecb598e2a"
      },
      "source": [
        "dic.values()"
      ],
      "execution_count": null,
      "outputs": [
        {
          "output_type": "execute_result",
          "data": {
            "text/plain": [
              "dict_values([0, 1, 2, 3])"
            ]
          },
          "metadata": {},
          "execution_count": 13
        }
      ]
    },
    {
      "cell_type": "code",
      "metadata": {
        "colab": {
          "base_uri": "https://localhost:8080/"
        },
        "id": "FpPAx0mp3MdZ",
        "outputId": "a50bdbc2-4ce9-4c2a-fe25-f50834ed19f6"
      },
      "source": [
        "type(dic['zero'])"
      ],
      "execution_count": null,
      "outputs": [
        {
          "output_type": "execute_result",
          "data": {
            "text/plain": [
              "int"
            ]
          },
          "metadata": {},
          "execution_count": 16
        }
      ]
    },
    {
      "cell_type": "code",
      "metadata": {
        "colab": {
          "base_uri": "https://localhost:8080/"
        },
        "id": "3Nyavjlf3fSJ",
        "outputId": "6aec9dea-e6f4-4024-a681-8bd4c67d5f1f"
      },
      "source": [
        "list(dic.keys())"
      ],
      "execution_count": null,
      "outputs": [
        {
          "output_type": "execute_result",
          "data": {
            "text/plain": [
              "['zero', 'um', 'dois', 'três']"
            ]
          },
          "metadata": {},
          "execution_count": 18
        }
      ]
    },
    {
      "cell_type": "code",
      "metadata": {
        "colab": {
          "base_uri": "https://localhost:8080/"
        },
        "id": "O0T0BJT637ze",
        "outputId": "a9671f34-57f9-442d-a104-a5b7b62cfcee"
      },
      "source": [
        "list(dic.values())"
      ],
      "execution_count": null,
      "outputs": [
        {
          "output_type": "execute_result",
          "data": {
            "text/plain": [
              "[0, 1, 2, 3]"
            ]
          },
          "metadata": {},
          "execution_count": 19
        }
      ]
    },
    {
      "cell_type": "code",
      "metadata": {
        "colab": {
          "base_uri": "https://localhost:8080/"
        },
        "id": "5ZF_871b4HUa",
        "outputId": "b0aa7266-851f-4114-d508-ff3e824188e1"
      },
      "source": [
        "list(dic.items())"
      ],
      "execution_count": null,
      "outputs": [
        {
          "output_type": "execute_result",
          "data": {
            "text/plain": [
              "[('zero', 0), ('um', 1), ('dois', 2), ('três', 3)]"
            ]
          },
          "metadata": {},
          "execution_count": 26
        }
      ]
    },
    {
      "cell_type": "code",
      "metadata": {
        "colab": {
          "base_uri": "https://localhost:8080/"
        },
        "id": "xlXP9GjJ4Lxz",
        "outputId": "936d546a-9328-42c8-ec25-e94ea68eae30"
      },
      "source": [
        "for chave, valor in dic.items():\n",
        "  print(chave, \"significa\", valor)"
      ],
      "execution_count": null,
      "outputs": [
        {
          "output_type": "stream",
          "name": "stdout",
          "text": [
            "zero significa 0\n",
            "um significa 1\n",
            "dois significa 2\n",
            "três significa 3\n"
          ]
        }
      ]
    },
    {
      "cell_type": "markdown",
      "metadata": {
        "id": "5TUB-rMr7wD8"
      },
      "source": [
        "### Arquivos\n",
        "\n",
        "- \"r\" é usado para ler um arquivo\n",
        "- \"w\" é usado para escrever em um arquivo\n",
        "- \"a\" é usado para adicionar no final de um arquivo\n",
        "\n",
        "Ao final do uso do arquivo, sempre fechá-lo com o comando close()."
      ]
    },
    {
      "cell_type": "code",
      "metadata": {
        "colab": {
          "base_uri": "https://localhost:8080/"
        },
        "id": "tLwKnQSi5YC2",
        "outputId": "6230b1ad-c874-4a21-ce81-5a4a6015b767"
      },
      "source": [
        "arquivo_entrada = open(\"corpus_teste.txt\", \"r\")\n",
        "print(arquivo_entrada.read())"
      ],
      "execution_count": null,
      "outputs": [
        {
          "output_type": "stream",
          "name": "stdout",
          "text": [
            "Giants batem os Patriots no Super Bowl XLII\n",
            "Azarões acabam com a invencibilidade de New England e ficam com o título da temporada\n",
            "04/02/2008 - 01h07m - Atualizado em 04/02/2008 - 09h49m\n",
            "\n",
            "Com um passe de Eli Manning para Plaxico Burress a 39 segundos do fim, o New York Giants anotou o touchdown decisivo e derrubou o favorito New England Patriots por 17 a 14 neste domingo, em Glendale, no Super Bowl XLII. O resultado, uma das maiores zebras da história do Super Bowl, acabou com a temporada perfeita de Tom Brady e companhia, que esperavam fazer história ao levantar o troféu da NFL sem sofrer uma derrota no ano. \n",
            "\n",
            "A vitória dos Giants, porém, também ficará para a história. Pela primeira vez, irmãos quarterbacks triunfam no Super Bowl em temporadas consecutivas. No ano passado, Peyton Manning, irmão de Eli, chegou ao título máximo da NFL pelo Indianapolis Colts.\n",
            "\n",
            "A partida\n",
            "\n",
            "Os Giants começaram com a posse de bola, e mostraram logo que iriam alongar ao máximo suas posses de bola. Misturando corridas com Brandon Jacobs e passes curtos, o time de Nova York chegou à red zone logo na primeira campanha. O avanço, no entanto, parou na linha de 17 jardas e Lawrence Tynes converteu o field goal de 32 jardas para abrir o placar.\n",
            "\n",
            "Eli Manning e companhia ficaram 9m54s com a bola, mas o ataque dos Patriots não entrou em campo frio. Logo no retorno do kickoff, o running back Laurence Maroney avançou 43 jardas, deixando Tom Brady em boa posição. Com passes curtos, os Patriots chegaram à linha de 17 jardas e, graças a uma penalidade (interferência de passe) do linebacker Antonio Pierce, alcançaram a linha de uma jarda. Maroney avançou pelo chão e anotou o primeiro touchdown do jogo.\n",
            "\n",
            "Os Giants pareciam rumo à virada na campanha seguinte. Manning achou Amani Toomer para um avanço de 38 jardas, e o time de Nova York entrou novamente na red zone. Com a bola na linha de 14 jardas dos Patriots, os Giants sofreram um revés. Manning passou para Steve Smith, que soltou a bola. Ellis Hobbs aproveitou, tomou a posse para os Patriots, e avançou 23 jardas. \n",
            "\n",
            "A defesa de Nova York manteve o jogo equilibrado. Com dois sacks seguidos, os Giants forçaram o punt e recuperaram a bola. Mas a campanha seguinte provou ser outra decepção para Nova York. O time chegou à linha de 25 jardas, mas Manning sofreu um sack e cometeu um fumble, e o ataque voltou para a linha de 39 jardas, não conseguindo pontuar mais uma vez.\n",
            "\n",
            "Os Patriots tiveram uma última chance de marcar antes do intervalo, mas, a 22 segundos do fim do segundo período, Brady foi novamente sacado. Desta vez, ele cometeu o fumble e os Giants tomaram a posse de bola. Manning tentou um passe longo, de 50 jardas, nos últimos segundos, mas não teve sucesso. \n",
            "\n",
            "O jogo continuou amarrado no terceiro quarto, com as defesas levando a melhor sobre os ataques. A única chance de pontuar do período foi dos Patriots, que chegaram à linha de 31 jardas dos Giants. O técnico Bill Bellichick, porém, optou por uma quarta descida em vez de um field goal. Brady tentou um passe para Jabar Gaffney, mas não conseguiu completar.\n",
            "\n",
            "O último período começou arrasador para os Giants. na primeira jogada, Manning achou o tight end Kevin Boss, para um incrível avanço de 45 jardas, que deixou o time na linha de 35 dos Patriots. Outro lançamento, desta vez para Steve Smith, marcou o avanço até a linha de 12 jardas. Duas jogadas depois, David Tyree pegou um passe de cinco jardas na end zone para anotar o touchdown e virar o jogo.\n",
            "\n",
            "Na hora da decisão, o ataque dos Patriots voltou a funcionar. Com uma série de passes curtos e variados, Brady achou Wes Welker, Randy Moss e Kevin Faulk seguidas vezes até chegar à red zone. A 2m45s do fim, o quarterback conectou mais uma vez com Moss, que se desmarcou e ficou livre na lateral direita da end zone.\n",
            "\n",
            "Quando os fãs de New England já comemoravam a vitória, o inesperado aconteceu. Em uma jogada incrível, Eli Manning se soltou de dois marcadores que o seguravam pela camisa e, na corrida, lançou para Amani Toomer. O wide receiver, bem marcado, saltou e conseguiu a fazer recepção para um avanço de 32 jardas, deixando os Giants na linha de 24 de New England.\n",
            "\n",
            "Quatro jogadas depois, a 39 segundos do fim, Manning achou Plaxico Burress na end zone para conseguir o touchdown do título.\n"
          ]
        }
      ]
    },
    {
      "cell_type": "code",
      "metadata": {
        "id": "qwOeT-KG8Y7E"
      },
      "source": [
        "arquivo_escrita = open(\"result.txt\", \"w\")\n",
        "arquivo_escrita.write(\"Curso de PLN Aula 3\")\n",
        "arquivo_escrita.close()"
      ],
      "execution_count": null,
      "outputs": []
    },
    {
      "cell_type": "code",
      "metadata": {
        "colab": {
          "base_uri": "https://localhost:8080/"
        },
        "id": "dbemCL889206",
        "outputId": "36f36616-43f2-4be6-a1c4-a25cc442dae7"
      },
      "source": [
        "arquivo_teste = open(\"result.txt\", \"r\")\n",
        "print(arquivo_teste.read())"
      ],
      "execution_count": null,
      "outputs": [
        {
          "output_type": "stream",
          "name": "stdout",
          "text": [
            "Curso de PLN Aula 3\n"
          ]
        }
      ]
    },
    {
      "cell_type": "code",
      "metadata": {
        "id": "LKDmjjvi-QlJ"
      },
      "source": [
        "arquivo_escrita = open(\"result.txt\", \"a\")\n",
        "arquivo_escrita.write(\" Estudando arquivos\")\n",
        "arquivo_escrita.close()"
      ],
      "execution_count": null,
      "outputs": []
    },
    {
      "cell_type": "code",
      "metadata": {
        "colab": {
          "base_uri": "https://localhost:8080/"
        },
        "id": "YiVd2_A_-dyo",
        "outputId": "791d30a2-df51-40b5-bfb5-3bfe2eaf2fc0"
      },
      "source": [
        "arquivo_teste = open(\"result.txt\", \"r\")\n",
        "print(arquivo_teste.read())"
      ],
      "execution_count": null,
      "outputs": [
        {
          "output_type": "stream",
          "name": "stdout",
          "text": [
            "Curso de PLN Aula 3 Estudando arquivos\n"
          ]
        }
      ]
    },
    {
      "cell_type": "markdown",
      "metadata": {
        "id": "TiPni5xa-8mS"
      },
      "source": [
        "### Lista de Exercícios"
      ]
    },
    {
      "cell_type": "markdown",
      "metadata": {
        "id": "w4KnYVB9_FsX"
      },
      "source": [
        "1. Crie três variáveis e atribua os valores a seguir: a=1, b=5.9 e c=‘teste’. A\n",
        "partir disso, retorne o tipo de cada uma das variáveis. "
      ]
    },
    {
      "cell_type": "code",
      "metadata": {
        "colab": {
          "base_uri": "https://localhost:8080/"
        },
        "id": "RoKx-87N-hBy",
        "outputId": "8aa8749b-7e40-406b-b8c2-6b883821a763"
      },
      "source": [
        "a = 1\n",
        "b = 5.9\n",
        "c = \"teste\"\n",
        "\n",
        "print(type(a), type(b), type(c))"
      ],
      "execution_count": null,
      "outputs": [
        {
          "output_type": "stream",
          "name": "stdout",
          "text": [
            "<class 'int'> <class 'float'> <class 'str'>\n"
          ]
        }
      ]
    },
    {
      "cell_type": "markdown",
      "metadata": {
        "id": "6xA4ilgB_jpq"
      },
      "source": [
        "2. Troque o valor da variável a por ‘1’ e verifique se o tipo da variável mudou."
      ]
    },
    {
      "cell_type": "code",
      "metadata": {
        "colab": {
          "base_uri": "https://localhost:8080/"
        },
        "id": "IMJaNYSh_Vac",
        "outputId": "228560db-ae1f-4c35-86f2-7b111eea63a7"
      },
      "source": [
        "a = '1'\n",
        "type(a)"
      ],
      "execution_count": null,
      "outputs": [
        {
          "output_type": "execute_result",
          "data": {
            "text/plain": [
              "str"
            ]
          },
          "metadata": {},
          "execution_count": 42
        }
      ]
    },
    {
      "cell_type": "markdown",
      "metadata": {
        "id": "NK3mS-Hc_yev"
      },
      "source": [
        "3. Faça a soma da variável b com a variável c. Interprete a saída, tanto em caso\n",
        "de execução correta quanto em caso de execução com erro.\n"
      ]
    },
    {
      "cell_type": "code",
      "metadata": {
        "colab": {
          "base_uri": "https://localhost:8080/",
          "height": 35
        },
        "id": "6fpMb8qN_qbV",
        "outputId": "255ae54c-bf6e-4fbc-a3df-11fcb3998a46"
      },
      "source": [
        "# O comando abaixo resulta em erro, pois não podemos somar str com valores numéricos\n",
        "# b + c\n",
        "str(b) + c"
      ],
      "execution_count": null,
      "outputs": [
        {
          "output_type": "execute_result",
          "data": {
            "application/vnd.google.colaboratory.intrinsic+json": {
              "type": "string"
            },
            "text/plain": [
              "'5.9teste'"
            ]
          },
          "metadata": {},
          "execution_count": 46
        }
      ]
    },
    {
      "cell_type": "markdown",
      "metadata": {
        "id": "_WJDfrY2AC18"
      },
      "source": [
        "4. Crie uma lista com números de 0 a 9 (em qualquer ordem). Com ela, faça:\n",
        "- a. Adicione o número 6\n",
        "- b. Insira o número 7 na 3ª posição da lista\n",
        "- c. Remova o elemento 3 da lista\n",
        "- d. Adicione o número 4\n",
        "- e. Verifique o número de ocorrências do número 4 na lista"
      ]
    },
    {
      "cell_type": "code",
      "metadata": {
        "colab": {
          "base_uri": "https://localhost:8080/"
        },
        "id": "rcpH65RS_8NQ",
        "outputId": "1a5d8a3f-5c1e-4642-f8ef-92f89c0bd873"
      },
      "source": [
        "lista = list(range(0, 10))\n",
        "print(lista)"
      ],
      "execution_count": null,
      "outputs": [
        {
          "output_type": "stream",
          "name": "stdout",
          "text": [
            "[0, 1, 2, 3, 4, 5, 6, 7, 8, 9]\n"
          ]
        }
      ]
    },
    {
      "cell_type": "code",
      "metadata": {
        "colab": {
          "base_uri": "https://localhost:8080/"
        },
        "id": "-kOriOZlAfQz",
        "outputId": "39f0e304-da35-43c4-ef7f-0b7c2de382e2"
      },
      "source": [
        "lista.append(6)\n",
        "print(lista)"
      ],
      "execution_count": null,
      "outputs": [
        {
          "output_type": "stream",
          "name": "stdout",
          "text": [
            "[0, 1, 2, 3, 4, 5, 6, 7, 8, 9, 6]\n"
          ]
        }
      ]
    },
    {
      "cell_type": "code",
      "metadata": {
        "colab": {
          "base_uri": "https://localhost:8080/"
        },
        "id": "Q8k7NVHCAvVW",
        "outputId": "33492581-c25a-48f6-bdad-b9b82a1b6fb1"
      },
      "source": [
        "lista.insert(2, 7)\n",
        "print(lista)"
      ],
      "execution_count": null,
      "outputs": [
        {
          "output_type": "stream",
          "name": "stdout",
          "text": [
            "[0, 1, 7, 2, 3, 4, 5, 6, 7, 8, 9, 6]\n"
          ]
        }
      ]
    },
    {
      "cell_type": "code",
      "metadata": {
        "colab": {
          "base_uri": "https://localhost:8080/"
        },
        "id": "StFCKFlyA3WL",
        "outputId": "2de8d95a-feec-4487-d556-964fecd5b998"
      },
      "source": [
        "lista.remove(3)\n",
        "print(lista)"
      ],
      "execution_count": null,
      "outputs": [
        {
          "output_type": "stream",
          "name": "stdout",
          "text": [
            "[0, 1, 7, 2, 4, 5, 6, 7, 8, 9, 6]\n"
          ]
        }
      ]
    },
    {
      "cell_type": "code",
      "metadata": {
        "colab": {
          "base_uri": "https://localhost:8080/"
        },
        "id": "3VPF3rU-A7zG",
        "outputId": "87f45fe2-e8d9-4e98-9a3e-d03996aec398"
      },
      "source": [
        "lista.append(4)\n",
        "print(lista)"
      ],
      "execution_count": null,
      "outputs": [
        {
          "output_type": "stream",
          "name": "stdout",
          "text": [
            "[0, 1, 7, 2, 4, 5, 6, 7, 8, 9, 6, 4]\n"
          ]
        }
      ]
    },
    {
      "cell_type": "code",
      "metadata": {
        "colab": {
          "base_uri": "https://localhost:8080/"
        },
        "id": "WuZgDhTJBBJ7",
        "outputId": "c6314a53-7106-4da8-a010-04dde0e79925"
      },
      "source": [
        "lista.count(4)"
      ],
      "execution_count": null,
      "outputs": [
        {
          "output_type": "execute_result",
          "data": {
            "text/plain": [
              "2"
            ]
          },
          "metadata": {},
          "execution_count": 57
        }
      ]
    },
    {
      "cell_type": "markdown",
      "metadata": {
        "id": "GxHCk306BkUr"
      },
      "source": [
        "5. Ainda com a lista criada na questão anterior, faça:\n",
        "- a. Retorne os primeiros 3 elementos da lista\n",
        "- b. Retorne os elementos que estão da 3ª posição até a 7ª posição da lista\n",
        "- c. Retorne os elementos da lista de 3 em 3 elementos\n",
        "- d. Retorne os 3 últimos elementos da lista\n",
        "- e. Retorne todos os elementos menos os 4 últimos da lista"
      ]
    },
    {
      "cell_type": "code",
      "metadata": {
        "colab": {
          "base_uri": "https://localhost:8080/"
        },
        "id": "OyspTpU0BJP9",
        "outputId": "7928fd96-e4f5-457e-b7d0-3c10b898e3ba"
      },
      "source": [
        "print(lista)\n",
        "print(\"--------\")\n",
        "print(lista[0:3])\n",
        "print(lista[2:7])\n",
        "print(lista[::3])\n",
        "print(lista[-3:])\n",
        "print(lista[:-4])"
      ],
      "execution_count": null,
      "outputs": [
        {
          "output_type": "stream",
          "name": "stdout",
          "text": [
            "[0, 1, 7, 2, 4, 5, 6, 7, 8, 9, 6, 4]\n",
            "--------\n",
            "[0, 1, 7]\n",
            "[7, 2, 4, 5, 6]\n",
            "[0, 2, 6, 9]\n",
            "[9, 6, 4]\n",
            "[0, 1, 7, 2, 4, 5, 6, 7]\n"
          ]
        }
      ]
    },
    {
      "cell_type": "markdown",
      "metadata": {
        "id": "EwDzAOE3DaPT"
      },
      "source": [
        "6. Com a lista das questões anteriores, retorne o 6º elemento da lista"
      ]
    },
    {
      "cell_type": "code",
      "metadata": {
        "colab": {
          "base_uri": "https://localhost:8080/"
        },
        "id": "CU249ayWCXMr",
        "outputId": "ddada95e-3c47-4f56-f0ea-12d001eb8fa7"
      },
      "source": [
        "lista[5]"
      ],
      "execution_count": null,
      "outputs": [
        {
          "output_type": "execute_result",
          "data": {
            "text/plain": [
              "5"
            ]
          },
          "metadata": {},
          "execution_count": 64
        }
      ]
    },
    {
      "cell_type": "markdown",
      "metadata": {
        "id": "HZjLlRCvDscX"
      },
      "source": [
        "7. Altere o valor do 7º elemento da lista para o valor 12."
      ]
    },
    {
      "cell_type": "code",
      "metadata": {
        "id": "98IyJhruDf3n"
      },
      "source": [
        "lista[6] = 12"
      ],
      "execution_count": null,
      "outputs": []
    },
    {
      "cell_type": "markdown",
      "metadata": {
        "id": "TlNwfVZkD-sR"
      },
      "source": [
        "8. Inverta a ordem dos elementos na lista"
      ]
    },
    {
      "cell_type": "code",
      "metadata": {
        "colab": {
          "base_uri": "https://localhost:8080/"
        },
        "id": "IPpLFmlSD-PX",
        "outputId": "a7fdbc65-8d10-44d3-d85a-0230788e936e"
      },
      "source": [
        "lista.reverse()\n",
        "print(lista)"
      ],
      "execution_count": null,
      "outputs": [
        {
          "output_type": "stream",
          "name": "stdout",
          "text": [
            "[4, 6, 9, 8, 7, 12, 5, 4, 2, 7, 1, 0]\n"
          ]
        }
      ]
    },
    {
      "cell_type": "markdown",
      "metadata": {
        "id": "3g-hLYKDEKcK"
      },
      "source": [
        "9. Ordene a lista"
      ]
    },
    {
      "cell_type": "code",
      "metadata": {
        "colab": {
          "base_uri": "https://localhost:8080/"
        },
        "id": "vDhVMmtRD57j",
        "outputId": "05e0a68b-6723-48fe-a496-7967cafdc1d7"
      },
      "source": [
        "lista.sort()\n",
        "print(lista)"
      ],
      "execution_count": null,
      "outputs": [
        {
          "output_type": "stream",
          "name": "stdout",
          "text": [
            "[0, 1, 2, 4, 4, 5, 6, 7, 7, 8, 9, 12]\n"
          ]
        }
      ]
    },
    {
      "cell_type": "markdown",
      "metadata": {
        "id": "L73WjoVDER7J"
      },
      "source": [
        "10. Crie uma tupla com números de 0 a 9 (em qualquer ordem) e tente:\n",
        "- a. Alterar o valor do 3º elemento da tupla para o valor 10\n",
        "- b. Verificar o índice (posição) do valor 5 na tupla"
      ]
    },
    {
      "cell_type": "code",
      "metadata": {
        "colab": {
          "base_uri": "https://localhost:8080/"
        },
        "id": "uM0jvxpnERrQ",
        "outputId": "0caf6cdc-e410-4182-95a5-607eab6a4303"
      },
      "source": [
        "tupla = (0, 1, 2, 3, 4, 5, 6, 7, 8, 9)\n",
        "print(tupla)"
      ],
      "execution_count": null,
      "outputs": [
        {
          "output_type": "stream",
          "name": "stdout",
          "text": [
            "(0, 1, 2, 3, 4, 5, 6, 7, 8, 9)\n"
          ]
        }
      ]
    },
    {
      "cell_type": "code",
      "metadata": {
        "colab": {
          "base_uri": "https://localhost:8080/",
          "height": 166
        },
        "id": "hgzSxvqsENuj",
        "outputId": "2cde3a8c-e8e4-4989-e552-5a1986b847f1"
      },
      "source": [
        "# Tuplas são imutáveis, logo o comando abaixo resulta em um erro\n",
        "# tupla[2] = 10"
      ],
      "execution_count": null,
      "outputs": [
        {
          "output_type": "error",
          "ename": "TypeError",
          "evalue": "ignored",
          "traceback": [
            "\u001b[0;31m---------------------------------------------------------------------------\u001b[0m",
            "\u001b[0;31mTypeError\u001b[0m                                 Traceback (most recent call last)",
            "\u001b[0;32m<ipython-input-73-6c7e2196c48b>\u001b[0m in \u001b[0;36m<module>\u001b[0;34m()\u001b[0m\n\u001b[0;32m----> 1\u001b[0;31m \u001b[0mtupla\u001b[0m\u001b[0;34m[\u001b[0m\u001b[0;36m2\u001b[0m\u001b[0;34m]\u001b[0m \u001b[0;34m=\u001b[0m \u001b[0;36m10\u001b[0m\u001b[0;34m\u001b[0m\u001b[0;34m\u001b[0m\u001b[0m\n\u001b[0m",
            "\u001b[0;31mTypeError\u001b[0m: 'tuple' object does not support item assignment"
          ]
        }
      ]
    },
    {
      "cell_type": "code",
      "metadata": {
        "colab": {
          "base_uri": "https://localhost:8080/"
        },
        "id": "HwYTvltiE9Er",
        "outputId": "09c4f62d-8110-4e3d-f9cf-5f4151fc76f5"
      },
      "source": [
        "tupla.index(5)"
      ],
      "execution_count": null,
      "outputs": [
        {
          "output_type": "execute_result",
          "data": {
            "text/plain": [
              "5"
            ]
          },
          "metadata": {},
          "execution_count": 74
        }
      ]
    },
    {
      "cell_type": "markdown",
      "metadata": {
        "id": "dJi5YVkrFszi"
      },
      "source": [
        "11. Crie um dicionário com 5 entradas e suas respectivas chaves e valores. Faça:\n",
        "- a. Imprima todas as chaves do dicionário\n",
        "- b. Imprima todos os valores do dicionário\n",
        "- c. Imprima todos os itens do dicionário\n",
        "- d. Imprima o 2º item do dicionário\n",
        "- e. Imprima o dicionário completo\n",
        "- f. Percorra o dicionário, imprimindo para cada entrada o modelo “(chave)\n",
        "tem como valor (valor)”"
      ]
    },
    {
      "cell_type": "code",
      "metadata": {
        "id": "TMHZkfMpFRcT"
      },
      "source": [
        "dic = {}\n",
        "dic[\"zero\"] = 0\n",
        "dic[\"um\"] = 1\n",
        "dic[\"dois\"] = 2\n",
        "dic[\"três\"] = 3\n",
        "dic[\"quatro\"] = 4"
      ],
      "execution_count": null,
      "outputs": []
    },
    {
      "cell_type": "code",
      "metadata": {
        "colab": {
          "base_uri": "https://localhost:8080/"
        },
        "id": "eou6DeX8GDTI",
        "outputId": "7902281b-ad81-4920-e162-700e24583846"
      },
      "source": [
        "dic.keys()"
      ],
      "execution_count": null,
      "outputs": [
        {
          "output_type": "execute_result",
          "data": {
            "text/plain": [
              "dict_keys(['zero', 'um', 'dois', 'três', 'quatro'])"
            ]
          },
          "metadata": {},
          "execution_count": 76
        }
      ]
    },
    {
      "cell_type": "code",
      "metadata": {
        "colab": {
          "base_uri": "https://localhost:8080/"
        },
        "id": "tREhQphdGFMy",
        "outputId": "bb163832-4cba-41ba-95a9-d67017746822"
      },
      "source": [
        "dic.values()"
      ],
      "execution_count": null,
      "outputs": [
        {
          "output_type": "execute_result",
          "data": {
            "text/plain": [
              "dict_values([0, 1, 2, 3, 4])"
            ]
          },
          "metadata": {},
          "execution_count": 77
        }
      ]
    },
    {
      "cell_type": "code",
      "metadata": {
        "colab": {
          "base_uri": "https://localhost:8080/"
        },
        "id": "UuoF3gDHGI8h",
        "outputId": "a8fc1148-23bb-44c6-9a3a-887aee69765f"
      },
      "source": [
        "dic.items()"
      ],
      "execution_count": null,
      "outputs": [
        {
          "output_type": "execute_result",
          "data": {
            "text/plain": [
              "dict_items([('zero', 0), ('um', 1), ('dois', 2), ('três', 3), ('quatro', 4)])"
            ]
          },
          "metadata": {},
          "execution_count": 78
        }
      ]
    },
    {
      "cell_type": "code",
      "metadata": {
        "colab": {
          "base_uri": "https://localhost:8080/"
        },
        "id": "epX6U0iLGNr_",
        "outputId": "f390d642-786f-4cf8-a11f-f5d9b14a525f"
      },
      "source": [
        "list(dic.items())[1]"
      ],
      "execution_count": null,
      "outputs": [
        {
          "output_type": "execute_result",
          "data": {
            "text/plain": [
              "('um', 1)"
            ]
          },
          "metadata": {},
          "execution_count": 82
        }
      ]
    },
    {
      "cell_type": "code",
      "metadata": {
        "colab": {
          "base_uri": "https://localhost:8080/"
        },
        "id": "Egk2AL80GRk5",
        "outputId": "a919ce76-3e0f-449a-ca16-e7a326280962"
      },
      "source": [
        "dic"
      ],
      "execution_count": null,
      "outputs": [
        {
          "output_type": "execute_result",
          "data": {
            "text/plain": [
              "{'dois': 2, 'quatro': 4, 'três': 3, 'um': 1, 'zero': 0}"
            ]
          },
          "metadata": {},
          "execution_count": 83
        }
      ]
    },
    {
      "cell_type": "code",
      "metadata": {
        "colab": {
          "base_uri": "https://localhost:8080/"
        },
        "id": "jpcT8eZlGy-M",
        "outputId": "c57dbd98-8d71-4efe-d4a4-18b0a4d018e0"
      },
      "source": [
        "for chave, valor in dic.items():\n",
        "  print(chave, \"tem como valor\", valor)"
      ],
      "execution_count": null,
      "outputs": [
        {
          "output_type": "stream",
          "name": "stdout",
          "text": [
            "zero tem como valor 0\n",
            "um tem como valor 1\n",
            "dois tem como valor 2\n",
            "três tem como valor 3\n",
            "quatro tem como valor 4\n"
          ]
        }
      ]
    },
    {
      "cell_type": "markdown",
      "metadata": {
        "id": "_qwpZNeiHgpj"
      },
      "source": [
        "12. Crie um arquivo e:\n",
        "- a. Escreva nele os números de 1 a 10\n",
        "- b. Depois de escrito, imprima na tela todos os números do arquivo\n",
        "- c. Escreva no arquivo os números de 11 a 20, substituindo os números que\n",
        "estavam antes no arquivo\n",
        "- d. Escreva no arquivo os números de 21 a 30, adicionando os números no\n",
        "final do arquivo (sem apagar o que já estavam lá)\n",
        "- e. Imprima na tela todos os números do arquivo novamente (de 11 a 30)\n",
        "- f. Imprima na tela todos os números do arquivo novamente, mas agora\n",
        "linha por linha"
      ]
    },
    {
      "cell_type": "code",
      "metadata": {
        "id": "P8Jyu52hHP9j"
      },
      "source": [
        "arquivo = open(\"exercicio.txt\", \"w\")\n",
        "# arquivo.write(\"1, 2, 3, 4, 5, 6, 7, 8, 9, 10\")\n",
        "for i in range(1,11):\n",
        "  arquivo.write(str(i) + \"\\n\")\n",
        "arquivo.close()"
      ],
      "execution_count": null,
      "outputs": []
    },
    {
      "cell_type": "code",
      "metadata": {
        "colab": {
          "base_uri": "https://localhost:8080/",
          "height": 35
        },
        "id": "lPlusQrDH22Y",
        "outputId": "6094c615-281d-4ef7-895c-b0fc775737e9"
      },
      "source": [
        "arquivo = open(\"exercicio.txt\", \"r\")\n",
        "arquivo.read()"
      ],
      "execution_count": null,
      "outputs": [
        {
          "output_type": "execute_result",
          "data": {
            "application/vnd.google.colaboratory.intrinsic+json": {
              "type": "string"
            },
            "text/plain": [
              "'1\\n2\\n3\\n4\\n5\\n6\\n7\\n8\\n9\\n10\\n'"
            ]
          },
          "metadata": {},
          "execution_count": 24
        }
      ]
    },
    {
      "cell_type": "code",
      "metadata": {
        "id": "8l1IN5vsIDmN"
      },
      "source": [
        "arquivo.close()"
      ],
      "execution_count": null,
      "outputs": []
    },
    {
      "cell_type": "code",
      "metadata": {
        "id": "FNKxZA93IQRO"
      },
      "source": [
        "arquivo = open(\"exercicio.txt\", \"w\")\n",
        "# arquivo.write(\"11, 12, 13, 14, 15, 16, 17, 18, 19, 20\")\n",
        "for i in range(11,21):\n",
        "  arquivo.write(str(i) + \"\\n\")\n",
        "arquivo.close()"
      ],
      "execution_count": null,
      "outputs": []
    },
    {
      "cell_type": "code",
      "metadata": {
        "id": "lIjg5G6UIZeq"
      },
      "source": [
        "arquivo = open(\"exercicio.txt\", \"a\")\n",
        "# arquivo.write(\", 21, 22, 23, 24, 25, 26, 27, 28, 29, 30\")\n",
        "for i in range(21,31):\n",
        "  arquivo.write(str(i) + \"\\n\")\n",
        "arquivo.close()"
      ],
      "execution_count": null,
      "outputs": []
    },
    {
      "cell_type": "code",
      "metadata": {
        "colab": {
          "base_uri": "https://localhost:8080/",
          "height": 35
        },
        "id": "wpIq2SzKIlJe",
        "outputId": "0396a99a-1097-43ed-8258-3bf7dc98a0ba"
      },
      "source": [
        "arquivo = open(\"exercicio.txt\", \"r\")\n",
        "arquivo.read()"
      ],
      "execution_count": null,
      "outputs": [
        {
          "output_type": "execute_result",
          "data": {
            "application/vnd.google.colaboratory.intrinsic+json": {
              "type": "string"
            },
            "text/plain": [
              "'11\\n12\\n13\\n14\\n15\\n16\\n17\\n18\\n19\\n20\\n21\\n22\\n23\\n24\\n25\\n26\\n27\\n28\\n29\\n30\\n'"
            ]
          },
          "metadata": {},
          "execution_count": 38
        }
      ]
    },
    {
      "cell_type": "code",
      "metadata": {
        "colab": {
          "base_uri": "https://localhost:8080/"
        },
        "id": "8AkDg5eQIoNi",
        "outputId": "c2f9508e-235d-4531-c698-6f78f1dc9456"
      },
      "source": [
        "arquivo = open(\"exercicio.txt\", \"r\", newline='\\n')\n",
        "#numeros = arquivo.read()\n",
        "# for i in range(0,len(numeros),4):\n",
        "#   print(numeros[i:i+3])\n",
        "print(arquivo.read())"
      ],
      "execution_count": null,
      "outputs": [
        {
          "output_type": "stream",
          "name": "stdout",
          "text": [
            "11\n",
            "12\n",
            "13\n",
            "14\n",
            "15\n",
            "16\n",
            "17\n",
            "18\n",
            "19\n",
            "20\n",
            "21\n",
            "22\n",
            "23\n",
            "24\n",
            "25\n",
            "26\n",
            "27\n",
            "28\n",
            "29\n",
            "30\n",
            "\n"
          ]
        }
      ]
    },
    {
      "cell_type": "markdown",
      "metadata": {
        "id": "24pIlXrBKAwE"
      },
      "source": [
        "### Strings\n",
        "Strings possuem uma variedade de funções.\n",
        "- len()\n",
        "- strip()\n",
        "- lower(), upper()\n",
        "- replace()\n",
        "- slipt()\n",
        "- join()\n",
        "\n",
        "Caracteres de escape:\n",
        "- \\n = quebra de linha\n",
        "- \\t = tabulação\n",
        "- \\\\' = aspas simples\n",
        "- \\\\\\ = barra invertida"
      ]
    },
    {
      "cell_type": "code",
      "metadata": {
        "id": "Y8-8k3-mMkYw",
        "colab": {
          "base_uri": "https://localhost:8080/",
          "height": 35
        },
        "outputId": "ca8a9fbb-5560-4214-b92a-c3164374141e"
      },
      "source": [
        "t = \"teste\"\n",
        "t[0]"
      ],
      "execution_count": null,
      "outputs": [
        {
          "output_type": "execute_result",
          "data": {
            "application/vnd.google.colaboratory.intrinsic+json": {
              "type": "string"
            },
            "text/plain": [
              "'t'"
            ]
          },
          "metadata": {},
          "execution_count": 19
        }
      ]
    },
    {
      "cell_type": "code",
      "metadata": {
        "colab": {
          "base_uri": "https://localhost:8080/",
          "height": 35
        },
        "id": "uWbIIJ-QG5Hu",
        "outputId": "7176ec2e-d87d-4831-993c-2d168e5df379"
      },
      "source": [
        "tr = \"l\" + t[1:]\n",
        "tr"
      ],
      "execution_count": null,
      "outputs": [
        {
          "output_type": "execute_result",
          "data": {
            "application/vnd.google.colaboratory.intrinsic+json": {
              "type": "string"
            },
            "text/plain": [
              "'leste'"
            ]
          },
          "metadata": {},
          "execution_count": 22
        }
      ]
    },
    {
      "cell_type": "code",
      "metadata": {
        "colab": {
          "base_uri": "https://localhost:8080/"
        },
        "id": "UDz5ql5nG_1w",
        "outputId": "d9cd8d18-71bf-4904-a310-c22567e427aa"
      },
      "source": [
        " len(t)"
      ],
      "execution_count": null,
      "outputs": [
        {
          "output_type": "execute_result",
          "data": {
            "text/plain": [
              "5"
            ]
          },
          "metadata": {},
          "execution_count": 41
        }
      ]
    },
    {
      "cell_type": "code",
      "metadata": {
        "colab": {
          "base_uri": "https://localhost:8080/",
          "height": 35
        },
        "id": "-YiRu4V9KR9Q",
        "outputId": "424f0697-8868-465c-c5fc-62da1883ff5e"
      },
      "source": [
        "t.upper()"
      ],
      "execution_count": null,
      "outputs": [
        {
          "output_type": "execute_result",
          "data": {
            "application/vnd.google.colaboratory.intrinsic+json": {
              "type": "string"
            },
            "text/plain": [
              "'TESTE'"
            ]
          },
          "metadata": {},
          "execution_count": 43
        }
      ]
    },
    {
      "cell_type": "code",
      "metadata": {
        "colab": {
          "base_uri": "https://localhost:8080/",
          "height": 35
        },
        "id": "byPa-T7KK65c",
        "outputId": "d818314e-1c0b-4841-b2ed-b674f1270b1f"
      },
      "source": [
        "t1 = \"    teste    \"\n",
        "t1.strip()"
      ],
      "execution_count": null,
      "outputs": [
        {
          "output_type": "execute_result",
          "data": {
            "application/vnd.google.colaboratory.intrinsic+json": {
              "type": "string"
            },
            "text/plain": [
              "'teste'"
            ]
          },
          "metadata": {},
          "execution_count": 45
        }
      ]
    },
    {
      "cell_type": "code",
      "metadata": {
        "colab": {
          "base_uri": "https://localhost:8080/",
          "height": 35
        },
        "id": "pGahmq0gLD2H",
        "outputId": "3b8a1174-9414-4695-a8a1-5ecfc7370da6"
      },
      "source": [
        "t.replace(\"e\", \"x\")"
      ],
      "execution_count": null,
      "outputs": [
        {
          "output_type": "execute_result",
          "data": {
            "application/vnd.google.colaboratory.intrinsic+json": {
              "type": "string"
            },
            "text/plain": [
              "'txstx'"
            ]
          },
          "metadata": {},
          "execution_count": 46
        }
      ]
    },
    {
      "cell_type": "code",
      "metadata": {
        "colab": {
          "base_uri": "https://localhost:8080/"
        },
        "id": "dAoMqwXNLRb2",
        "outputId": "8cb95107-5567-43a9-b6e9-c8d18825e2b0"
      },
      "source": [
        "frase = \"isso é uma frase\"\n",
        "frase.split(\"é\")"
      ],
      "execution_count": null,
      "outputs": [
        {
          "output_type": "execute_result",
          "data": {
            "text/plain": [
              "['isso ', ' uma frase']"
            ]
          },
          "metadata": {},
          "execution_count": 48
        }
      ]
    },
    {
      "cell_type": "code",
      "metadata": {
        "colab": {
          "base_uri": "https://localhost:8080/"
        },
        "id": "JK71cmeWLvE0",
        "outputId": "5e49f614-c6a6-450c-fabf-3e0797f5b059"
      },
      "source": [
        "len(frase)"
      ],
      "execution_count": null,
      "outputs": [
        {
          "output_type": "execute_result",
          "data": {
            "text/plain": [
              "16"
            ]
          },
          "metadata": {},
          "execution_count": 49
        }
      ]
    },
    {
      "cell_type": "code",
      "metadata": {
        "colab": {
          "base_uri": "https://localhost:8080/"
        },
        "id": "2G7MM7FSMNWM",
        "outputId": "31339a88-9b63-42da-e432-10be20799852"
      },
      "source": [
        "len(frase.split())"
      ],
      "execution_count": null,
      "outputs": [
        {
          "output_type": "execute_result",
          "data": {
            "text/plain": [
              "4"
            ]
          },
          "metadata": {},
          "execution_count": 50
        }
      ]
    },
    {
      "cell_type": "code",
      "metadata": {
        "colab": {
          "base_uri": "https://localhost:8080/"
        },
        "id": "FKLYozlQMQEl",
        "outputId": "89430b81-76c1-42a7-c5ec-8e9e2d43ab9c"
      },
      "source": [
        "frase_split = frase.split()\n",
        "frase_split"
      ],
      "execution_count": null,
      "outputs": [
        {
          "output_type": "execute_result",
          "data": {
            "text/plain": [
              "['isso', 'é', 'uma', 'frase']"
            ]
          },
          "metadata": {},
          "execution_count": 52
        }
      ]
    },
    {
      "cell_type": "code",
      "metadata": {
        "colab": {
          "base_uri": "https://localhost:8080/",
          "height": 35
        },
        "id": "393Ylp10M0iF",
        "outputId": "c9266616-0a48-4d2a-d228-7106dd040e77"
      },
      "source": [
        "juntar = \"**\".join(frase_split)\n",
        "juntar"
      ],
      "execution_count": null,
      "outputs": [
        {
          "output_type": "execute_result",
          "data": {
            "application/vnd.google.colaboratory.intrinsic+json": {
              "type": "string"
            },
            "text/plain": [
              "'isso**é**uma**frase'"
            ]
          },
          "metadata": {},
          "execution_count": 54
        }
      ]
    },
    {
      "cell_type": "markdown",
      "metadata": {
        "id": "3rATD8h6OVLo"
      },
      "source": [
        "### Lista de Exercícios\n",
        "\n",
        "1. Dado o arquivo qbdata.txt, retorne o rating de cada QB na forma \"nome do QB teve valor XX.X\" e escreva em um arquivo novo.\n",
        "\n",
        "2. Pensando em uma agenda, construa um dicionário com informações do contato sendo: CPF, nome, telefone e user no Twitter. Ao final, imprima todos os contatos na forma\n",
        "\n",
        "CPF: nome, telefone (user)"
      ]
    },
    {
      "cell_type": "code",
      "metadata": {
        "id": "ZyDyI-YDM-xF"
      },
      "source": [],
      "execution_count": null,
      "outputs": []
    }
  ]
}